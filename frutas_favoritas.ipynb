{
  "nbformat": 4,
  "nbformat_minor": 0,
  "metadata": {
    "colab": {
      "name": "frutas_favoritas.ipynb",
      "provenance": [],
      "collapsed_sections": []
    },
    "kernelspec": {
      "name": "python3",
      "display_name": "Python 3"
    },
    "language_info": {
      "name": "python"
    }
  },
  "cells": [
    {
      "cell_type": "code",
      "metadata": {
        "id": "8MFqWqYYfQ-p"
      },
      "source": [
        "def ver(conjunto):\n",
        "    frut_min=['maçã','banana','abacate','pêra','uva']\n",
        "    frut_max=['MAÇÃ','BANANA','ABACATE','PÊRA','UVA']\n",
        "    if (conjunto in frut_min) or (conjunto in frut_max):\n",
        "    else:\n",
        "      return False\n",
        "import sys\n",
        "fruta=input('Quais minhas frutas favoritas?')\n",
        "if ver(fruta):\n",
        "    print(fruta,': ',True)\n",
        "else:\n",
        "    print(fruta,': ',False)"
      ],
      "execution_count": null,
      "outputs": []
    }
  ]
}