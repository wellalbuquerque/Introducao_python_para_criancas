{
  "nbformat": 4,
  "nbformat_minor": 0,
  "metadata": {
    "colab": {
      "name": "ver_vogal.ipynb",
      "provenance": [],
      "authorship_tag": "ABX9TyM4fseOJhLBy/L8okNUxvf+",
      "include_colab_link": true
    },
    "kernelspec": {
      "name": "python3",
      "display_name": "Python 3"
    },
    "language_info": {
      "name": "python"
    }
  },
  "cells": [
    {
      "cell_type": "markdown",
      "metadata": {
        "id": "view-in-github",
        "colab_type": "text"
      },
      "source": [
        "<a href=\"https://colab.research.google.com/github/wellalbuquerque/Introducao_python_para_criancas/blob/main/ver_vogal.ipynb\" target=\"_parent\"><img src=\"https://colab.research.google.com/assets/colab-badge.svg\" alt=\"Open In Colab\"/></a>"
      ]
    },
    {
      "cell_type": "code",
      "metadata": {
        "colab": {
          "base_uri": "https://localhost:8080/"
        },
        "id": "aMY9zq6ltnKD",
        "outputId": "6acc8b35-3d18-48a0-ccdc-d2d6f88709a7"
      },
      "source": [
        "def vogal(letras):\n",
        "    vogais = ['a', 'e', 'i', 'o', 'u']\n",
        "\n",
        "    if ((letras.lower()) or (letras.upper())) in vogais:\n",
        "        return True\n",
        "    else:\n",
        "        return False\n",
        "\n",
        "\n",
        "print(vogal('G'))\n",
        "print(vogal('A'))\n",
        "print(vogal('u'))"
      ],
      "execution_count": 36,
      "outputs": [
        {
          "output_type": "stream",
          "name": "stdout",
          "text": [
            "False\n",
            "True\n",
            "True\n"
          ]
        }
      ]
    }
  ]
}